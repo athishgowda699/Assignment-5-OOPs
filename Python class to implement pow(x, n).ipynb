{
 "cells": [
  {
   "cell_type": "code",
   "execution_count": 1,
   "id": "5eabc1c5",
   "metadata": {},
   "outputs": [
    {
     "name": "stdout",
     "output_type": "stream",
     "text": [
      "2 to the power -3 is 0.125\n",
      "10 to the power 2 is 100\n",
      "0 to the power 1 is 0\n",
      "1 to the power 0 is 1\n",
      "12 to the power 1 is 12\n",
      "5 to the power -1 is 0.2\n"
     ]
    }
   ],
   "source": [
    "class n_power:\n",
    "    def calculation(self,x,n):\n",
    "        if x==0 or n==1 or x==1:\n",
    "            print('{} to the power {} is {}'.format(x,n,x))\n",
    "        elif n==0:\n",
    "            print('{} to the power {} is {}'.format(x,n,1))\n",
    "        elif n<0:\n",
    "            a=x**(abs(n))\n",
    "            b=1/a\n",
    "            print('{} to the power {} is {}'.format(x,n,b))\n",
    "        else:\n",
    "            c=x**n\n",
    "            print('{} to the power {} is {}'.format(x,n,c))\n",
    "            \n",
    "\n",
    "n=n_power()\n",
    "n.calculation(2,-3)\n",
    "n.calculation(10,2)\n",
    "n.calculation(0,1)\n",
    "n.calculation(1,0)\n",
    "n.calculation(12,1)\n",
    "n.calculation(5,-1)"
   ]
  },
  {
   "cell_type": "code",
   "execution_count": null,
   "id": "61d1dc94",
   "metadata": {},
   "outputs": [],
   "source": []
  }
 ],
 "metadata": {
  "kernelspec": {
   "display_name": "Python 3 (ipykernel)",
   "language": "python",
   "name": "python3"
  },
  "language_info": {
   "codemirror_mode": {
    "name": "ipython",
    "version": 3
   },
   "file_extension": ".py",
   "mimetype": "text/x-python",
   "name": "python",
   "nbconvert_exporter": "python",
   "pygments_lexer": "ipython3",
   "version": "3.10.1"
  }
 },
 "nbformat": 4,
 "nbformat_minor": 5
}
